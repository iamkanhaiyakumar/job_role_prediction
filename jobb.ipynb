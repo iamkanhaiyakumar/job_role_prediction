{
 "cells": [
  {
   "cell_type": "code",
   "execution_count": 1,
   "id": "982d8ebf",
   "metadata": {},
   "outputs": [],
   "source": [
    "import pandas as pd\n",
    "import numpy as np\n",
    "from sklearn.model_selection import train_test_split\n",
    "# from xgboost import XGBRegressor\n",
    "from xgboost import XGBRegressor\n",
    "\n",
    "from sklearn.ensemble import VotingRegressor, RandomForestRegressor, GradientBoostingRegressor,StackingRegressor\n",
    "from sklearn.tree import DecisionTreeClassifier\n",
    "from sklearn.metrics import mean_squared_error, r2_score ,accuracy_score, classification_report\n",
    "from sklearn.preprocessing import StandardScaler, LabelEncoder\n",
    "import matplotlib.pyplot as plt\n",
    "import seaborn as sns\n",
    "from sklearn.linear_model import LinearRegression\n",
    "import warnings\n",
    "warnings.filterwarnings(\"ignore\")\n"
   ]
  },
  {
   "cell_type": "code",
   "execution_count": 2,
   "id": "49c7c4f8",
   "metadata": {},
   "outputs": [
    {
     "data": {
      "application/vnd.microsoft.datawrangler.viewer.v0+json": {
       "columns": [
        {
         "name": "index",
         "rawType": "int64",
         "type": "integer"
        },
        {
         "name": "Degree",
         "rawType": "object",
         "type": "string"
        },
        {
         "name": "Major",
         "rawType": "object",
         "type": "string"
        },
        {
         "name": "CGPA",
         "rawType": "float64",
         "type": "float"
        },
        {
         "name": "Employed",
         "rawType": "object",
         "type": "string"
        },
        {
         "name": "Experience",
         "rawType": "int64",
         "type": "integer"
        },
        {
         "name": "Skills",
         "rawType": "object",
         "type": "string"
        },
        {
         "name": "Certifications",
         "rawType": "object",
         "type": "string"
        },
        {
         "name": "IndustryPreference",
         "rawType": "object",
         "type": "string"
        },
        {
         "name": "Job Role Simplified",
         "rawType": "object",
         "type": "string"
        },
        {
         "name": "Job Role",
         "rawType": "object",
         "type": "string"
        }
       ],
       "ref": "1a497f60-fb6e-4ce5-9967-2ca76cb26fde",
       "rows": [
        [
         "0",
         "MBA",
         "Economics",
         "8.16",
         "yes",
         "9",
         "R, Econometrics, Data Analysis, Python, Statistics",
         "AWS Certified",
         "IT",
         "Financial Analyst",
         "Data Analyst"
        ],
        [
         "1",
         "MBA",
         "Economics",
         "6.66",
         "no",
         "7",
         "Data Analysis, R, Econometrics, Python, Statistics",
         "PMP",
         "IT",
         "Financial Analyst",
         "Data Analyst"
        ],
        [
         "2",
         "MBA",
         "Finance",
         "6.95",
         "no",
         "9",
         "Financial Modeling, Excel, Risk Analysis",
         "Six Sigma",
         "Manufacturing",
         "Investment Analyst",
         "Data Analyst"
        ],
        [
         "3",
         "MCA",
         "Computer Science",
         "7.15",
         "no",
         "4",
         "Java, Machine Learning, Python, C++",
         "Data Science Certificate",
         "Manufacturing",
         "Data Analyst",
         "Data Analyst"
        ],
        [
         "4",
         "B.Tech",
         "Computer Science",
         "7.7",
         "no",
         "6",
         "C++, Python, SQL",
         "Six Sigma",
         "Finance",
         "Software Engineer",
         "Software Engineer"
        ],
        [
         "5",
         "MCA",
         "Computer Science",
         "9.0",
         "yes",
         "2",
         "Python, C++",
         "PMP",
         "Engineer",
         "Software Engineer",
         "Software Engineer"
        ],
        [
         "6",
         "M.Tech",
         "Computer Science",
         "5.8",
         "no",
         "10",
         "Java, Python",
         "Six Sigma",
         "Education",
         "Software Engineer",
         "Software Engineer"
        ],
        [
         "7",
         "B.Tech",
         "Computer Science",
         "5.5",
         "no",
         "3",
         "Machine Learning, C++",
         "AWS Certified",
         "IT",
         "Data Analyst",
         "Data Analyst"
        ],
        [
         "8",
         "M.Tech",
         "Mechanical",
         "6.89",
         "yes",
         "10",
         "MATLAB, SolidWorks, Thermodynamics",
         "PMP",
         "IT",
         "Design Engineer",
         "Software Engineer"
        ],
        [
         "9",
         "B.Tech",
         "Electrical",
         "5.87",
         "yes",
         "8",
         "Embedded Systems, C, Circuit Design, MATLAB, VHDL",
         "Six Sigma",
         "Manufacturing",
         "Embedded Systems Engineer",
         "Software Engineer"
        ]
       ],
       "shape": {
        "columns": 10,
        "rows": 10
       }
      },
      "text/html": [
       "<div>\n",
       "<style scoped>\n",
       "    .dataframe tbody tr th:only-of-type {\n",
       "        vertical-align: middle;\n",
       "    }\n",
       "\n",
       "    .dataframe tbody tr th {\n",
       "        vertical-align: top;\n",
       "    }\n",
       "\n",
       "    .dataframe thead th {\n",
       "        text-align: right;\n",
       "    }\n",
       "</style>\n",
       "<table border=\"1\" class=\"dataframe\">\n",
       "  <thead>\n",
       "    <tr style=\"text-align: right;\">\n",
       "      <th></th>\n",
       "      <th>Degree</th>\n",
       "      <th>Major</th>\n",
       "      <th>CGPA</th>\n",
       "      <th>Employed</th>\n",
       "      <th>Experience</th>\n",
       "      <th>Skills</th>\n",
       "      <th>Certifications</th>\n",
       "      <th>IndustryPreference</th>\n",
       "      <th>Job Role Simplified</th>\n",
       "      <th>Job Role</th>\n",
       "    </tr>\n",
       "  </thead>\n",
       "  <tbody>\n",
       "    <tr>\n",
       "      <th>0</th>\n",
       "      <td>MBA</td>\n",
       "      <td>Economics</td>\n",
       "      <td>8.16</td>\n",
       "      <td>yes</td>\n",
       "      <td>9</td>\n",
       "      <td>R, Econometrics, Data Analysis, Python, Statis...</td>\n",
       "      <td>AWS Certified</td>\n",
       "      <td>IT</td>\n",
       "      <td>Financial Analyst</td>\n",
       "      <td>Data Analyst</td>\n",
       "    </tr>\n",
       "    <tr>\n",
       "      <th>1</th>\n",
       "      <td>MBA</td>\n",
       "      <td>Economics</td>\n",
       "      <td>6.66</td>\n",
       "      <td>no</td>\n",
       "      <td>7</td>\n",
       "      <td>Data Analysis, R, Econometrics, Python, Statis...</td>\n",
       "      <td>PMP</td>\n",
       "      <td>IT</td>\n",
       "      <td>Financial Analyst</td>\n",
       "      <td>Data Analyst</td>\n",
       "    </tr>\n",
       "    <tr>\n",
       "      <th>2</th>\n",
       "      <td>MBA</td>\n",
       "      <td>Finance</td>\n",
       "      <td>6.95</td>\n",
       "      <td>no</td>\n",
       "      <td>9</td>\n",
       "      <td>Financial Modeling, Excel, Risk Analysis</td>\n",
       "      <td>Six Sigma</td>\n",
       "      <td>Manufacturing</td>\n",
       "      <td>Investment Analyst</td>\n",
       "      <td>Data Analyst</td>\n",
       "    </tr>\n",
       "    <tr>\n",
       "      <th>3</th>\n",
       "      <td>MCA</td>\n",
       "      <td>Computer Science</td>\n",
       "      <td>7.15</td>\n",
       "      <td>no</td>\n",
       "      <td>4</td>\n",
       "      <td>Java, Machine Learning, Python, C++</td>\n",
       "      <td>Data Science Certificate</td>\n",
       "      <td>Manufacturing</td>\n",
       "      <td>Data Analyst</td>\n",
       "      <td>Data Analyst</td>\n",
       "    </tr>\n",
       "    <tr>\n",
       "      <th>4</th>\n",
       "      <td>B.Tech</td>\n",
       "      <td>Computer Science</td>\n",
       "      <td>7.70</td>\n",
       "      <td>no</td>\n",
       "      <td>6</td>\n",
       "      <td>C++, Python, SQL</td>\n",
       "      <td>Six Sigma</td>\n",
       "      <td>Finance</td>\n",
       "      <td>Software Engineer</td>\n",
       "      <td>Software Engineer</td>\n",
       "    </tr>\n",
       "    <tr>\n",
       "      <th>5</th>\n",
       "      <td>MCA</td>\n",
       "      <td>Computer Science</td>\n",
       "      <td>9.00</td>\n",
       "      <td>yes</td>\n",
       "      <td>2</td>\n",
       "      <td>Python, C++</td>\n",
       "      <td>PMP</td>\n",
       "      <td>Engineer</td>\n",
       "      <td>Software Engineer</td>\n",
       "      <td>Software Engineer</td>\n",
       "    </tr>\n",
       "    <tr>\n",
       "      <th>6</th>\n",
       "      <td>M.Tech</td>\n",
       "      <td>Computer Science</td>\n",
       "      <td>5.80</td>\n",
       "      <td>no</td>\n",
       "      <td>10</td>\n",
       "      <td>Java, Python</td>\n",
       "      <td>Six Sigma</td>\n",
       "      <td>Education</td>\n",
       "      <td>Software Engineer</td>\n",
       "      <td>Software Engineer</td>\n",
       "    </tr>\n",
       "    <tr>\n",
       "      <th>7</th>\n",
       "      <td>B.Tech</td>\n",
       "      <td>Computer Science</td>\n",
       "      <td>5.50</td>\n",
       "      <td>no</td>\n",
       "      <td>3</td>\n",
       "      <td>Machine Learning, C++</td>\n",
       "      <td>AWS Certified</td>\n",
       "      <td>IT</td>\n",
       "      <td>Data Analyst</td>\n",
       "      <td>Data Analyst</td>\n",
       "    </tr>\n",
       "    <tr>\n",
       "      <th>8</th>\n",
       "      <td>M.Tech</td>\n",
       "      <td>Mechanical</td>\n",
       "      <td>6.89</td>\n",
       "      <td>yes</td>\n",
       "      <td>10</td>\n",
       "      <td>MATLAB, SolidWorks, Thermodynamics</td>\n",
       "      <td>PMP</td>\n",
       "      <td>IT</td>\n",
       "      <td>Design Engineer</td>\n",
       "      <td>Software Engineer</td>\n",
       "    </tr>\n",
       "    <tr>\n",
       "      <th>9</th>\n",
       "      <td>B.Tech</td>\n",
       "      <td>Electrical</td>\n",
       "      <td>5.87</td>\n",
       "      <td>yes</td>\n",
       "      <td>8</td>\n",
       "      <td>Embedded Systems, C, Circuit Design, MATLAB, VHDL</td>\n",
       "      <td>Six Sigma</td>\n",
       "      <td>Manufacturing</td>\n",
       "      <td>Embedded Systems Engineer</td>\n",
       "      <td>Software Engineer</td>\n",
       "    </tr>\n",
       "  </tbody>\n",
       "</table>\n",
       "</div>"
      ],
      "text/plain": [
       "   Degree             Major  CGPA Employed  Experience  \\\n",
       "0     MBA         Economics  8.16      yes           9   \n",
       "1     MBA         Economics  6.66       no           7   \n",
       "2     MBA           Finance  6.95       no           9   \n",
       "3     MCA  Computer Science  7.15       no           4   \n",
       "4  B.Tech  Computer Science  7.70       no           6   \n",
       "5     MCA  Computer Science  9.00      yes           2   \n",
       "6  M.Tech  Computer Science  5.80       no          10   \n",
       "7  B.Tech  Computer Science  5.50       no           3   \n",
       "8  M.Tech        Mechanical  6.89      yes          10   \n",
       "9  B.Tech        Electrical  5.87      yes           8   \n",
       "\n",
       "                                              Skills  \\\n",
       "0  R, Econometrics, Data Analysis, Python, Statis...   \n",
       "1  Data Analysis, R, Econometrics, Python, Statis...   \n",
       "2           Financial Modeling, Excel, Risk Analysis   \n",
       "3                Java, Machine Learning, Python, C++   \n",
       "4                                   C++, Python, SQL   \n",
       "5                                        Python, C++   \n",
       "6                                       Java, Python   \n",
       "7                              Machine Learning, C++   \n",
       "8                 MATLAB, SolidWorks, Thermodynamics   \n",
       "9  Embedded Systems, C, Circuit Design, MATLAB, VHDL   \n",
       "\n",
       "             Certifications IndustryPreference        Job Role Simplified  \\\n",
       "0             AWS Certified                 IT          Financial Analyst   \n",
       "1                       PMP                 IT          Financial Analyst   \n",
       "2                 Six Sigma      Manufacturing         Investment Analyst   \n",
       "3  Data Science Certificate      Manufacturing               Data Analyst   \n",
       "4                 Six Sigma            Finance          Software Engineer   \n",
       "5                       PMP           Engineer          Software Engineer   \n",
       "6                 Six Sigma          Education          Software Engineer   \n",
       "7             AWS Certified                 IT               Data Analyst   \n",
       "8                       PMP                 IT            Design Engineer   \n",
       "9                 Six Sigma      Manufacturing  Embedded Systems Engineer   \n",
       "\n",
       "            Job Role  \n",
       "0       Data Analyst  \n",
       "1       Data Analyst  \n",
       "2       Data Analyst  \n",
       "3       Data Analyst  \n",
       "4  Software Engineer  \n",
       "5  Software Engineer  \n",
       "6  Software Engineer  \n",
       "7       Data Analyst  \n",
       "8  Software Engineer  \n",
       "9  Software Engineer  "
      ]
     },
     "execution_count": 2,
     "metadata": {},
     "output_type": "execute_result"
    }
   ],
   "source": [
    "df = pd.read_csv(r\"Dataset.csv\")\n",
    "df.head(10)"
   ]
  },
  {
   "cell_type": "code",
   "execution_count": 3,
   "id": "c1313066",
   "metadata": {},
   "outputs": [
    {
     "name": "stdout",
     "output_type": "stream",
     "text": [
      "<class 'pandas.core.frame.DataFrame'>\n",
      "RangeIndex: 9523 entries, 0 to 9522\n",
      "Data columns (total 10 columns):\n",
      " #   Column               Non-Null Count  Dtype  \n",
      "---  ------               --------------  -----  \n",
      " 0   Degree               9521 non-null   object \n",
      " 1   Major                9523 non-null   object \n",
      " 2   CGPA                 9523 non-null   float64\n",
      " 3   Employed             9523 non-null   object \n",
      " 4   Experience           9523 non-null   int64  \n",
      " 5   Skills               9523 non-null   object \n",
      " 6   Certifications       9523 non-null   object \n",
      " 7   IndustryPreference   9523 non-null   object \n",
      " 8   Job Role Simplified  9523 non-null   object \n",
      " 9   Job Role             9523 non-null   object \n",
      "dtypes: float64(1), int64(1), object(8)\n",
      "memory usage: 744.1+ KB\n"
     ]
    },
    {
     "data": {
      "application/vnd.microsoft.datawrangler.viewer.v0+json": {
       "columns": [
        {
         "name": "index",
         "rawType": "object",
         "type": "string"
        },
        {
         "name": "CGPA",
         "rawType": "float64",
         "type": "float"
        },
        {
         "name": "Experience",
         "rawType": "float64",
         "type": "float"
        }
       ],
       "ref": "83135c02-2018-4937-add1-2509feb5e025",
       "rows": [
        [
         "count",
         "9523.0",
         "9523.0"
        ],
        [
         "mean",
         "7.613978202205923",
         "6.19311141447023"
        ],
        [
         "std",
         "1.4531016566172217",
         "4.111906933451005"
        ],
        [
         "min",
         "5.0",
         "0.0"
        ],
        [
         "25%",
         "6.4",
         "3.0"
        ],
        [
         "50%",
         "7.62",
         "6.0"
        ],
        [
         "75%",
         "8.92",
         "9.0"
        ],
        [
         "max",
         "10.0",
         "15.0"
        ]
       ],
       "shape": {
        "columns": 2,
        "rows": 8
       }
      },
      "text/html": [
       "<div>\n",
       "<style scoped>\n",
       "    .dataframe tbody tr th:only-of-type {\n",
       "        vertical-align: middle;\n",
       "    }\n",
       "\n",
       "    .dataframe tbody tr th {\n",
       "        vertical-align: top;\n",
       "    }\n",
       "\n",
       "    .dataframe thead th {\n",
       "        text-align: right;\n",
       "    }\n",
       "</style>\n",
       "<table border=\"1\" class=\"dataframe\">\n",
       "  <thead>\n",
       "    <tr style=\"text-align: right;\">\n",
       "      <th></th>\n",
       "      <th>CGPA</th>\n",
       "      <th>Experience</th>\n",
       "    </tr>\n",
       "  </thead>\n",
       "  <tbody>\n",
       "    <tr>\n",
       "      <th>count</th>\n",
       "      <td>9523.000000</td>\n",
       "      <td>9523.000000</td>\n",
       "    </tr>\n",
       "    <tr>\n",
       "      <th>mean</th>\n",
       "      <td>7.613978</td>\n",
       "      <td>6.193111</td>\n",
       "    </tr>\n",
       "    <tr>\n",
       "      <th>std</th>\n",
       "      <td>1.453102</td>\n",
       "      <td>4.111907</td>\n",
       "    </tr>\n",
       "    <tr>\n",
       "      <th>min</th>\n",
       "      <td>5.000000</td>\n",
       "      <td>0.000000</td>\n",
       "    </tr>\n",
       "    <tr>\n",
       "      <th>25%</th>\n",
       "      <td>6.400000</td>\n",
       "      <td>3.000000</td>\n",
       "    </tr>\n",
       "    <tr>\n",
       "      <th>50%</th>\n",
       "      <td>7.620000</td>\n",
       "      <td>6.000000</td>\n",
       "    </tr>\n",
       "    <tr>\n",
       "      <th>75%</th>\n",
       "      <td>8.920000</td>\n",
       "      <td>9.000000</td>\n",
       "    </tr>\n",
       "    <tr>\n",
       "      <th>max</th>\n",
       "      <td>10.000000</td>\n",
       "      <td>15.000000</td>\n",
       "    </tr>\n",
       "  </tbody>\n",
       "</table>\n",
       "</div>"
      ],
      "text/plain": [
       "              CGPA   Experience\n",
       "count  9523.000000  9523.000000\n",
       "mean      7.613978     6.193111\n",
       "std       1.453102     4.111907\n",
       "min       5.000000     0.000000\n",
       "25%       6.400000     3.000000\n",
       "50%       7.620000     6.000000\n",
       "75%       8.920000     9.000000\n",
       "max      10.000000    15.000000"
      ]
     },
     "execution_count": 3,
     "metadata": {},
     "output_type": "execute_result"
    }
   ],
   "source": [
    "df.info()\n",
    "df.describe()"
   ]
  },
  {
   "cell_type": "code",
   "execution_count": 4,
   "id": "6ea0a514",
   "metadata": {},
   "outputs": [],
   "source": [
    "df = df.drop_duplicates()"
   ]
  },
  {
   "cell_type": "code",
   "execution_count": 5,
   "id": "0475fcd7",
   "metadata": {},
   "outputs": [
    {
     "data": {
      "application/vnd.microsoft.datawrangler.viewer.v0+json": {
       "columns": [
        {
         "name": "index",
         "rawType": "object",
         "type": "string"
        },
        {
         "name": "0",
         "rawType": "int64",
         "type": "integer"
        }
       ],
       "ref": "a751d782-785d-402d-b104-051f77599330",
       "rows": [
        [
         "Degree",
         "2"
        ],
        [
         "Major",
         "0"
        ],
        [
         "CGPA",
         "0"
        ],
        [
         "Employed",
         "0"
        ],
        [
         "Experience",
         "0"
        ],
        [
         "Skills",
         "0"
        ],
        [
         "Certifications",
         "0"
        ],
        [
         "IndustryPreference",
         "0"
        ],
        [
         "Job Role Simplified",
         "0"
        ],
        [
         "Job Role",
         "0"
        ]
       ],
       "shape": {
        "columns": 1,
        "rows": 10
       }
      },
      "text/plain": [
       "Degree                 2\n",
       "Major                  0\n",
       "CGPA                   0\n",
       "Employed               0\n",
       "Experience             0\n",
       "Skills                 0\n",
       "Certifications         0\n",
       "IndustryPreference     0\n",
       "Job Role Simplified    0\n",
       "Job Role               0\n",
       "dtype: int64"
      ]
     },
     "execution_count": 5,
     "metadata": {},
     "output_type": "execute_result"
    }
   ],
   "source": [
    "df.isnull().sum()\n"
   ]
  },
  {
   "cell_type": "code",
   "execution_count": 6,
   "id": "dd27b972",
   "metadata": {},
   "outputs": [],
   "source": [
    "df=df.dropna()"
   ]
  },
  {
   "cell_type": "code",
   "execution_count": 7,
   "id": "18578720",
   "metadata": {},
   "outputs": [
    {
     "data": {
      "application/vnd.microsoft.datawrangler.viewer.v0+json": {
       "columns": [
        {
         "name": "index",
         "rawType": "object",
         "type": "string"
        },
        {
         "name": "0",
         "rawType": "int64",
         "type": "integer"
        }
       ],
       "ref": "4b939cf6-77bf-42f6-bc3d-4c82fe5227a3",
       "rows": [
        [
         "Degree",
         "0"
        ],
        [
         "Major",
         "0"
        ],
        [
         "CGPA",
         "0"
        ],
        [
         "Employed",
         "0"
        ],
        [
         "Experience",
         "0"
        ],
        [
         "Skills",
         "0"
        ],
        [
         "Certifications",
         "0"
        ],
        [
         "IndustryPreference",
         "0"
        ],
        [
         "Job Role Simplified",
         "0"
        ],
        [
         "Job Role",
         "0"
        ]
       ],
       "shape": {
        "columns": 1,
        "rows": 10
       }
      },
      "text/plain": [
       "Degree                 0\n",
       "Major                  0\n",
       "CGPA                   0\n",
       "Employed               0\n",
       "Experience             0\n",
       "Skills                 0\n",
       "Certifications         0\n",
       "IndustryPreference     0\n",
       "Job Role Simplified    0\n",
       "Job Role               0\n",
       "dtype: int64"
      ]
     },
     "execution_count": 7,
     "metadata": {},
     "output_type": "execute_result"
    }
   ],
   "source": [
    "df.isnull().sum()"
   ]
  },
  {
   "cell_type": "code",
   "execution_count": 8,
   "id": "5a5d866e",
   "metadata": {},
   "outputs": [],
   "source": [
    "df.describe()\n",
    "X = df.drop(columns='Job Role')\n",
    "y = df['Job Role']"
   ]
  },
  {
   "cell_type": "code",
   "execution_count": 9,
   "id": "cda34d98",
   "metadata": {},
   "outputs": [],
   "source": [
    "categorical_cols = ['Degree', 'Major', 'Employed', 'Skills', 'Certifications', 'IndustryPreference']\n",
    "for col in categorical_cols:\n",
    "    X[col] = X[col].astype(str)\n",
    "\n",
    "# One-Hot Encoding for categorical variables\n",
    "X_encoded = pd.get_dummies(X, columns=categorical_cols)"
   ]
  },
  {
   "cell_type": "code",
   "execution_count": 10,
   "id": "90fc1cf6",
   "metadata": {},
   "outputs": [
    {
     "name": "stdout",
     "output_type": "stream",
     "text": [
      "✅ Model Test Accuracy: 0.99\n",
      "Sample predictions: ['Software Engineer' 'Mechanical Engineer' 'Academia' 'Data Analyst'\n",
      " 'Academia' 'Healthcare' 'Data Scientist' 'Software Engineer'\n",
      " 'Data Scientist' 'Software Engineer']\n"
     ]
    }
   ],
   "source": [
    "import pandas as pd\n",
    "from sklearn.model_selection import train_test_split\n",
    "from sklearn.preprocessing import LabelEncoder\n",
    "from sklearn.ensemble import RandomForestClassifier\n",
    "\n",
    "# -----------------------------\n",
    "# 1. Load dataset\n",
    "# -----------------------------\n",
    "df = pd.read_csv(\"Dataset.csv\")\n",
    "\n",
    "# Drop unwanted columns (if present)\n",
    "df = df.drop(columns=[\"Prediction Confidence\", \"Predicted Job Role\"], errors=\"ignore\")\n",
    "\n",
    "# Remove rows where Job Role is \"Other\"\n",
    "df = df[df[\"Job Role\"] != \"Other\"]\n",
    "\n",
    "# Drop nulls\n",
    "df = df.dropna()\n",
    "\n",
    "# -----------------------------\n",
    "# 2. Separate target and features\n",
    "# -----------------------------\n",
    "y = df[\"Job Role\"]            # target column\n",
    "X = df.drop(columns=[\"Job Role\", \"Job Role Simplified\"], errors=\"ignore\")  # drop target and problematic feature\n",
    "\n",
    "# -----------------------------\n",
    "# 3. One-hot encode categorical features\n",
    "# -----------------------------\n",
    "categorical_cols = [\"Degree\", \"Major\", \"Employed\", \"Skills\", \"Certifications\", \"IndustryPreference\"]\n",
    "categorical_cols = [c for c in categorical_cols if c in X.columns]  # keep only existing\n",
    "\n",
    "X[categorical_cols] = X[categorical_cols].astype(str)\n",
    "X_encoded = pd.get_dummies(X, columns=categorical_cols)\n",
    "\n",
    "# -----------------------------\n",
    "# 4. Encode target\n",
    "# -----------------------------\n",
    "le = LabelEncoder()\n",
    "y_encoded = le.fit_transform(y)\n",
    "\n",
    "# -----------------------------\n",
    "# 5. Train/test split\n",
    "# -----------------------------\n",
    "X_train, X_test, y_train, y_test = train_test_split(\n",
    "    X_encoded, y_encoded, test_size=0.2, random_state=42\n",
    ")\n",
    "\n",
    "# -----------------------------\n",
    "# 6. Train RandomForestClassifier\n",
    "# -----------------------------\n",
    "model = RandomForestClassifier(n_estimators=100, random_state=42)\n",
    "model.fit(X_train, y_train)\n",
    "\n",
    "# -----------------------------\n",
    "# 7. Evaluate\n",
    "# -----------------------------\n",
    "accuracy = model.score(X_test, y_test)\n",
    "print(f\"✅ Model Test Accuracy: {accuracy:.2f}\")\n",
    "\n",
    "# Optional: map predictions back to original labels\n",
    "predicted_labels = le.inverse_transform(model.predict(X_test))\n",
    "print(\"Sample predictions:\", predicted_labels[:10])\n"
   ]
  }
 ],
 "metadata": {
  "kernelspec": {
   "display_name": "Python 3",
   "language": "python",
   "name": "python3"
  },
  "language_info": {
   "codemirror_mode": {
    "name": "ipython",
    "version": 3
   },
   "file_extension": ".py",
   "mimetype": "text/x-python",
   "name": "python",
   "nbconvert_exporter": "python",
   "pygments_lexer": "ipython3",
   "version": "3.12.7"
  }
 },
 "nbformat": 4,
 "nbformat_minor": 5
}
